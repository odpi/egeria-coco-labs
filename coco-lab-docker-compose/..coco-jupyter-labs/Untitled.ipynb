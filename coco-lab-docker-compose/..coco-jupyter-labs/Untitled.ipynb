{
 "cells": [
  {
   "cell_type": "code",
   "execution_count": 3,
   "id": "19cce73a-2e6b-4d12-8047-5da99017c39b",
   "metadata": {},
   "outputs": [
    {
     "data": {
      "text/plain": [
       "'Egeria OMAG Server Platform (version 5.1-SNAPSHOT)\\n'"
      ]
     },
     "execution_count": 3,
     "metadata": {},
     "output_type": "execute_result"
    }
   ],
   "source": [
    "from pyegeria import Platform\n",
    "p = Platform(\"cocoMDS1\",\"https://host.docker.internal:9743\",\"garygeeke\")\n",
    "p.get_platform_origin()"
   ]
  },
  {
   "cell_type": "code",
   "execution_count": null,
   "id": "1eeb2925-c43f-4f72-9e38-820a08533e9f",
   "metadata": {},
   "outputs": [],
   "source": []
  }
 ],
 "metadata": {
  "kernelspec": {
   "display_name": "Python 3 (ipykernel)",
   "language": "python",
   "name": "python3"
  },
  "language_info": {
   "codemirror_mode": {
    "name": "ipython",
    "version": 3
   },
   "file_extension": ".py",
   "mimetype": "text/x-python",
   "name": "python",
   "nbconvert_exporter": "python",
   "pygments_lexer": "ipython3",
   "version": "3.11.9"
  }
 },
 "nbformat": 4,
 "nbformat_minor": 5
}
